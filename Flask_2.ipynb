{
  "nbformat": 4,
  "nbformat_minor": 0,
  "metadata": {
    "colab": {
      "provenance": []
    },
    "kernelspec": {
      "name": "python3",
      "display_name": "Python 3"
    },
    "language_info": {
      "name": "python"
    }
  },
  "cells": [
    {
      "cell_type": "markdown",
      "source": [
        "Q1. Explain GET and POST methods."
      ],
      "metadata": {
        "id": "wYvA7fC9Hd8e"
      }
    },
    {
      "cell_type": "code",
      "execution_count": null,
      "metadata": {
        "id": "wMAgJjeeHdP3"
      },
      "outputs": [],
      "source": [
        "# GET method is used to retrieve data from the server. \n",
        "# POST method is used to submit data to the server. "
      ]
    },
    {
      "cell_type": "markdown",
      "source": [
        "Q2. Why is request used in Flask?"
      ],
      "metadata": {
        "id": "kYk7v6vVHiJU"
      }
    },
    {
      "cell_type": "code",
      "source": [
        "# request object is used in Flask to access the data submitted by the client in the HTTP request. "
      ],
      "metadata": {
        "id": "YxceuOKIHj7H"
      },
      "execution_count": null,
      "outputs": []
    },
    {
      "cell_type": "markdown",
      "source": [
        "Q3. Why is redirect() used in Flask?"
      ],
      "metadata": {
        "id": "ieVQJyJYHkMk"
      }
    },
    {
      "cell_type": "code",
      "source": [
        "# In Flask, redirect() is a function that is used to redirect the user to a different URL."
      ],
      "metadata": {
        "id": "rCMFHPb6Hlh9"
      },
      "execution_count": null,
      "outputs": []
    },
    {
      "cell_type": "code",
      "source": [
        "from flask import Flask, redirect, url_for, render_template, request\n",
        "\n",
        "app = Flask(__name__)\n",
        "\n",
        "@app.route('/')\n",
        "def index():\n",
        "    return render_template('index.html')\n",
        "\n",
        "@app.route('/submit', methods=['POST'])\n",
        "def submit():\n",
        "    # process the form data here\n",
        "    return redirect(url_for('success'))\n",
        "\n",
        "@app.route('/success')\n",
        "def success():\n",
        "    return render_template('success.html')\n",
        "\n",
        "if __name__ == '__main__':\n",
        "    app.run(debug=True)"
      ],
      "metadata": {
        "colab": {
          "base_uri": "https://localhost:8080/"
        },
        "id": "8Ch2Jh5HIQdD",
        "outputId": "b15b23ed-6dce-460c-cbe6-f262e245618d"
      },
      "execution_count": null,
      "outputs": [
        {
          "output_type": "stream",
          "name": "stdout",
          "text": [
            " * Serving Flask app '__main__'\n",
            " * Debug mode: on\n"
          ]
        },
        {
          "output_type": "stream",
          "name": "stderr",
          "text": [
            "INFO:werkzeug:\u001b[31m\u001b[1mWARNING: This is a development server. Do not use it in a production deployment. Use a production WSGI server instead.\u001b[0m\n",
            " * Running on http://127.0.0.1:5000\n",
            "INFO:werkzeug:\u001b[33mPress CTRL+C to quit\u001b[0m\n",
            "INFO:werkzeug: * Restarting with stat\n"
          ]
        }
      ]
    },
    {
      "cell_type": "markdown",
      "source": [
        "Q4. What are templates in Flask? Why is the render_template() function used?"
      ],
      "metadata": {
        "id": "KpDHbTLDHly9"
      }
    },
    {
      "cell_type": "code",
      "source": [
        "# In Flask, a template is a file that contains the structure and layout of a web page, as well as placeholders for dynamic content. "
      ],
      "metadata": {
        "id": "xmkyCQ7mHnwd"
      },
      "execution_count": null,
      "outputs": []
    },
    {
      "cell_type": "markdown",
      "source": [
        "Q5. Create a simple API. Use Postman to test it. Attach the screenshot of the output in the Jupyter Notebook."
      ],
      "metadata": {
        "id": "AYSZdQi4HoAt"
      }
    },
    {
      "cell_type": "code",
      "source": [
        "from flask import Flask, jsonify, request\n",
        "\n",
        "app = Flask(__name__)\n",
        "\n",
        "# create a sample data\n",
        "students = [\n",
        "    {\n",
        "        'id': 1,\n",
        "        'name': 'John',\n",
        "        'age': 21,\n",
        "        'grade': 'A'\n",
        "    },\n",
        "    {\n",
        "        'id': 2,\n",
        "        'name': 'Mary',\n",
        "        'age': 22,\n",
        "        'grade': 'B'\n",
        "    }\n",
        "]\n",
        "\n",
        "# GET all students\n",
        "@app.route('/students', methods=['GET'])\n",
        "def get_students():\n",
        "    return jsonify({'students': students})\n",
        "\n",
        "# GET a single student by ID\n",
        "@app.route('/students/<int:id>', methods=['GET'])\n",
        "def get_student(id):\n",
        "    student = [student for student in students if student['id'] == id]\n",
        "    if len(student) == 0:\n",
        "        return jsonify({'error': 'Student not found'})\n",
        "    return jsonify({'student': student[0]})\n",
        "\n",
        "# POST a new student\n",
        "@app.route('/students', methods=['POST'])\n",
        "def create_student():\n",
        "    student = {\n",
        "        'id': request.json['id'],\n",
        "        'name': request.json['name'],\n",
        "        'age': request.json['age'],\n",
        "        'grade': request.json['grade']\n",
        "    }\n",
        "    students.append(student)\n",
        "    return jsonify({'student': student}), 201\n",
        "\n",
        "if __name__ == '__main__':\n",
        "    app.run(debug=True)"
      ],
      "metadata": {
        "id": "FbbjjxbGHqBV"
      },
      "execution_count": null,
      "outputs": []
    }
  ]
}