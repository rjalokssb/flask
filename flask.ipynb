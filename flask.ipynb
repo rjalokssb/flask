{
  "nbformat": 4,
  "nbformat_minor": 0,
  "metadata": {
    "colab": {
      "provenance": []
    },
    "kernelspec": {
      "name": "python3",
      "display_name": "Python 3"
    },
    "language_info": {
      "name": "python"
    }
  },
  "cells": [
    {
      "cell_type": "markdown",
      "source": [
        "Q1. What is Flask Framework? What are the advantages of Flask Framework?"
      ],
      "metadata": {
        "id": "SOroiNPJx7Hh"
      }
    },
    {
      "cell_type": "code",
      "execution_count": null,
      "metadata": {
        "id": "nAPjvm_-x6do"
      },
      "outputs": [],
      "source": [
        "# Flask is a lightweight web framework written in Python that is designed to be simple and easy to use.\n",
        "Lightweight and easy to use\n",
        "Flexible\n",
        "Built-in development server\n",
        "Wide range of extensions\n"
      ]
    },
    {
      "cell_type": "markdown",
      "source": [
        "Q2. Create a simple Flask application to display ‘Hello World!!’. Attach the screenshot of the output in\n",
        "Jupyter Notebook."
      ],
      "metadata": {
        "id": "OXGKd8tlx8JA"
      }
    },
    {
      "cell_type": "code",
      "source": [
        "from flask import Flask\n",
        "\n",
        "app = Flask(__name__)\n",
        "\n",
        "@app.route(/)\n",
        "def hello_world():\n",
        "  return \"Hello World\"\n",
        "\n",
        "if __name__ == '__main__':\n",
        "  app.run()"
      ],
      "metadata": {
        "id": "EsPHndVLx-c2"
      },
      "execution_count": null,
      "outputs": []
    },
    {
      "cell_type": "markdown",
      "source": [
        "![Capture.PNG](data:image/png;base64,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)"
      ],
      "metadata": {
        "id": "oEDJV4ovzh8d"
      }
    },
    {
      "cell_type": "markdown",
      "source": [
        "Q3. What is App routing in Flask? Why do we use app routes?"
      ],
      "metadata": {
        "id": "NeGFuqmAyACo"
      }
    },
    {
      "cell_type": "code",
      "source": [
        "# App routing in Flask refers to the process of mapping URLs to specific functions in a Flask application. \n",
        "# We use app routes in Flask to create different views or pages of our web application. "
      ],
      "metadata": {
        "id": "Q2upgq_FyAb4"
      },
      "execution_count": null,
      "outputs": []
    },
    {
      "cell_type": "markdown",
      "source": [
        "Q4. Create a “/welcome” route to display the welcome message “Welcome to ABC Corporation” and a “/”\n",
        "route to show the following details:\n",
        "\n",
        "Company Name: ABC Corporation\n",
        "\n",
        "Location: India\n",
        "\n",
        "Contact Detail: 999-999-9999"
      ],
      "metadata": {
        "id": "TogRtJ-nyAqY"
      }
    },
    {
      "cell_type": "code",
      "source": [
        "from flask import Flask\n",
        "\n",
        "app = Flask(__name__)\n",
        "\n",
        "@app.route('/welcome')\n",
        "def welcome():\n",
        "    return 'Welcome to ABC Corporation'\n",
        "\n",
        "@app.route('/')\n",
        "def home():\n",
        "    return 'Company Name: ABC Corporation\\nLocation: India\\nContact Detail: 999-999-9999'\n",
        "\n",
        "if __name__ == '__main__':\n",
        "    app.run()"
      ],
      "metadata": {
        "id": "iBEVDei6yExB"
      },
      "execution_count": null,
      "outputs": []
    },
    {
      "cell_type": "markdown",
      "source": [
        "Q5. What function is used in Flask for URL Building? Write a Python code to demonstrate the working of the\n",
        "url_for() function."
      ],
      "metadata": {
        "id": "OC_Av-KryFGg"
      }
    },
    {
      "cell_type": "code",
      "source": [
        "# The url_for() function is used in Flask to dynamically build URLs for a given function"
      ],
      "metadata": {
        "id": "D6_JAyynyIhx"
      },
      "execution_count": null,
      "outputs": []
    },
    {
      "cell_type": "code",
      "source": [
        "from flask import Flask, url_for\n",
        "\n",
        "app = Flask(__name__)\n",
        "\n",
        "@app.route('/')\n",
        "def index():\n",
        "    # generate a URL for the 'hello' function using url_for()\n",
        "    hello_url = url_for('hello')\n",
        "\n",
        "    # return a message containing the generated URL\n",
        "    return f'The URL for the hello function is: {hello_url}'\n",
        "\n",
        "@app.route('/hello')\n",
        "def hello():\n",
        "    return 'Hello World!'\n",
        "\n",
        "if __name__ == '__main__':\n",
        "    app.run()"
      ],
      "metadata": {
        "id": "oweV7ztW0UK8"
      },
      "execution_count": null,
      "outputs": []
    }
  ]
}