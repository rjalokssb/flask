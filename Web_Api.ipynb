{
  "nbformat": 4,
  "nbformat_minor": 0,
  "metadata": {
    "colab": {
      "provenance": []
    },
    "kernelspec": {
      "name": "python3",
      "display_name": "Python 3"
    },
    "language_info": {
      "name": "python"
    }
  },
  "cells": [
    {
      "cell_type": "markdown",
      "source": [
        "Q1. What is an API? Give an example, where an API is used in real life."
      ],
      "metadata": {
        "id": "oKHGgiILvuQ3"
      }
    },
    {
      "cell_type": "code",
      "execution_count": null,
      "metadata": {
        "id": "9gyjkPQgvqkl"
      },
      "outputs": [],
      "source": [
        "# API stands for Application Programming Interface. It is a set of protocols, routines, and tools for building software applications that specify how different software components should interact with each other. \n",
        "# An example of an API used in real life is the Google Maps API. Google Maps API provides developers with access to the Google Maps service, allowing them to embed maps in their own applications "
      ]
    },
    {
      "cell_type": "markdown",
      "source": [
        "Q2. Give advantages and disadvantages of using API."
      ],
      "metadata": {
        "id": "aGayvnFNvvQd"
      }
    },
    {
      "cell_type": "code",
      "source": [
        "# Advantages \n",
        "Improved functionality\n",
        "Time and cost savings\n",
        "Integration\n",
        "Scalability\n",
        "\n",
        "# Disadvantages\n",
        "Security concerns\n",
        "Complexity\n",
        "Compatibility \n",
        "Dependence on third-party services"
      ],
      "metadata": {
        "id": "RlnYh7kevxVT"
      },
      "execution_count": null,
      "outputs": []
    },
    {
      "cell_type": "markdown",
      "source": [
        "Q3. What is a Web API? Differentiate between API and Web API."
      ],
      "metadata": {
        "id": "uwowZvt8vxgO"
      }
    },
    {
      "cell_type": "code",
      "source": [
        "# Web API is a specific type of API that is accessed over the internet using HTTP and returns data in JSON or XML format, while APIs are a more general concept that can refer to any set of protocols, routines, and tools for building software applications."
      ],
      "metadata": {
        "id": "HtZQTCYpvy_-"
      },
      "execution_count": null,
      "outputs": []
    },
    {
      "cell_type": "markdown",
      "source": [
        "Q4. Explain REST and SOAP Architecture. Mention shortcomings of SOAP."
      ],
      "metadata": {
        "id": "DYywXDmmvzN-"
      }
    },
    {
      "cell_type": "code",
      "source": [
        "# REST is an architectural style that is used to build web services that are lightweight, scalable, and easy to maintain. \n",
        "# SOAP is a messaging protocol that is used to build web services that are designed to work with XML-based messages."
      ],
      "metadata": {
        "id": "ooXIVrG1v03W"
      },
      "execution_count": null,
      "outputs": []
    },
    {
      "cell_type": "markdown",
      "source": [
        "Q5. Differentiate between REST and SOAP."
      ],
      "metadata": {
        "id": "i0kAOlOCv1Y3"
      }
    },
    {
      "cell_type": "code",
      "source": [
        "# REST is an architectural style that is used to build web services that are lightweight, scalable, and easy to maintain. \n",
        "# SOAP is a messaging protocol that is used to build web services that are designed to work with XML-based messages."
      ],
      "metadata": {
        "id": "BJDIb4ksv2_f"
      },
      "execution_count": null,
      "outputs": []
    }
  ]
}